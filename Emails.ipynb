{
 "cells": [
  {
   "cell_type": "markdown",
   "id": "0d428c17",
   "metadata": {},
   "source": [
    "# Imports"
   ]
  },
  {
   "cell_type": "code",
   "execution_count": 51,
   "id": "c374e07e",
   "metadata": {},
   "outputs": [],
   "source": [
    "import os\n",
    "import pandas as pd\n",
    "import re\n",
    "from typing import Dict, List, Optional, Union, Callable\n",
    "from crewai import Agent, Task, Crew, Process\n",
    "from langchain_openai import ChatOpenAI"
   ]
  },
  {
   "cell_type": "markdown",
   "id": "90427f31",
   "metadata": {},
   "source": [
    "# KEYS"
   ]
  },
  {
   "cell_type": "code",
   "execution_count": 52,
   "id": "6cbe85b4",
   "metadata": {},
   "outputs": [],
   "source": [
    "os.environ[\"OPENAI_API_KEY\"] = \"\""
   ]
  },
  {
   "cell_type": "markdown",
   "id": "cdad77a0",
   "metadata": {},
   "source": [
    "# Initialize GPT 4o\n",
    "\n",
    "![](visuals/Visual_1.png)"
   ]
  },
  {
   "cell_type": "code",
   "execution_count": 53,
   "id": "48e9f879",
   "metadata": {},
   "outputs": [],
   "source": [
    "llm = ChatOpenAI(\n",
    "    model=\"gpt-4o-latest\",\n",
    "    temperature=0.2,\n",
    "    max_tokens = 20000,\n",
    "    openai_api_key=os.environ[\"OPENAI_API_KEY\"],\n",
    ")"
   ]
  },
  {
   "cell_type": "markdown",
   "id": "171d01dc",
   "metadata": {},
   "source": [
    "# Meet the Agents\n",
    "- Email Analyzer\n",
    "- Summarizer\n",
    "- Action Recommender\n",
    "- Response Drafter\n",
    "\n",
    "![](visuals/Visual_2.png)"
   ]
  },
  {
   "cell_type": "markdown",
   "id": "21dea4a2",
   "metadata": {},
   "source": [
    "# Agent : Email Analyzer\n",
    "\n",
    "![](visuals/Visual_3.png)"
   ]
  },
  {
   "cell_type": "code",
   "execution_count": 54,
   "id": "cc9e3606",
   "metadata": {},
   "outputs": [
    {
     "name": "stdout",
     "output_type": "stream",
     "text": [
      "\n",
      "\u001b[1;31mProvider List: https://docs.litellm.ai/docs/providers\u001b[0m\n",
      "\n"
     ]
    }
   ],
   "source": [
    "email_analyzer = Agent(\n",
    "    role=\"Email Analyzer\",\n",
    "    goal=\"Thoroughly analyze email content by understanding not just the literal message but also the surrounding context, including tone, intent, priority, and relational dynamics between sender and recipient. The agent should identify and extract key points, implicit expectations, and actionable items, classify the email by type (e.g., request, update, complaint, confirmation), and assess urgency through both linguistic cues and metadata. It must consider prior conversation threads when available, determine the appropriate next steps, and structure its insights in a way that supports downstream processes like summarization, scheduling, delegation, or escalation, ensuring no critical information or nuance is lost in translation.\",\n",
    "    backstory=\"\"\"You are a seasoned communication analyst with extensive experience in dissecting and interpreting digital correspondence across a wide range of industries and contexts. Over the years, you’ve developed an exceptional ability to read between the lines—understanding not just what is written in an email, but why it was written, how it is likely to be received, and what course of action it subtly or explicitly demands. You are highly skilled at identifying the intent behind a message, whether it’s to inform, request, escalate, delegate, or persuade, and can distinguish between high-priority matters and background noise. You are also adept at evaluating tone and sentiment, recognizing urgency cues, and drawing connections between emails in ongoing threads to piece together the broader communication landscape. Your expertise allows you to deliver sharp, context-aware insights that empower others to respond strategically, prioritize effectively, and never miss a critical detail. You function not only as a reader of messages but as a trusted interpreter of meaning and a gateway to informed action.\"\"\",\n",
    "    verbose=True,\n",
    "    allow_delegation=True,\n",
    "    llm=llm\n",
    ")"
   ]
  },
  {
   "cell_type": "markdown",
   "id": "75157283",
   "metadata": {},
   "source": [
    "# Agent : Summarizer\n",
    "\n",
    "![](visuals/Visual_4.png)"
   ]
  },
  {
   "cell_type": "code",
   "execution_count": 56,
   "id": "ebc805b7",
   "metadata": {},
   "outputs": [
    {
     "ename": "SyntaxError",
     "evalue": "invalid syntax. Perhaps you forgot a comma? (87520731.py, line 4)",
     "output_type": "error",
     "traceback": [
      "\u001b[1;36m  Cell \u001b[1;32mIn[56], line 4\u001b[1;36m\u001b[0m\n\u001b[1;33m    backstory=\"\"\"You are a highly skilled communication specialist with a refined talent for transforming lengthy, complex, or cluttered emails into clear, actionable summaries that are easy to understand and quick to digest. With years of experience in information synthesis, executive reporting, and operational communication, you have developed a sharp instinct for identifying what truly matters in a message—cutting through filler language, repetitive details, and emotional noise to extract the core insights. You are adept at isolating critical instructions, key decisions, important dates, and implicit expectations, and presenting them in a format that enables fast comprehension and effective follow-through. Whether the email is a standalone update or part of a dense thread, you recognize its purpose and relevance within the larger context and adapt your summary accordingly. Your ability to condense complex communication into just one or two bullet points, without sacrificing nuance or intent, makes you an indispensable asset in environments where clarity, speed, and precision are paramount. Your summaries serve as a powerful bridge between raw communication and efficient action.\"\"\"\u001b[0m\n\u001b[1;37m              ^\u001b[0m\n\u001b[1;31mSyntaxError\u001b[0m\u001b[1;31m:\u001b[0m invalid syntax. Perhaps you forgot a comma?\n"
     ]
    }
   ],
   "source": [
    "summarizer = Agent(\n",
    "    role=\"Email Summarizer\",\n",
    "    goal=\"Generate concise yet highly accurate summaries of emails by distilling the most essential information from the message body, subject line, metadata, and conversational context. The agent should be able to identify the core purpose of the email—whether it is conveying information, making a request, confirming an action, raising an issue, or initiating a conversation—and articulate it in a way that captures the full meaning without unnecessary detail. It must reduce complex or lengthy emails into digestible summaries that retain the original intent, tone, and actionable elements, ensuring that no critical information is lost in the process. The summaries should be tailored for immediate comprehension and decision-making, supporting downstream tasks like task creation, scheduling, or intelligent auto-responses. Whether the message is part of an ongoing thread or a standalone email, the agent must maintain coherence and relevance while stripping away redundancy and ambiguity, delivering a clear, structured overview that enables fast and effective human or automated follow-up.\",\n",
    "    backstory=\"\"\"You are a highly skilled communication specialist with a refined talent for transforming lengthy, complex, or cluttered emails into clear, actionable summaries that are easy to understand and quick to digest. With years of experience in information synthesis, executive reporting, and operational communication, you have developed a sharp instinct for identifying what truly matters in a message—cutting through filler language, repetitive details, and emotional noise to extract the core insights. You are adept at isolating critical instructions, key decisions, important dates, and implicit expectations, and presenting them in a format that enables fast comprehension and effective follow-through. Whether the email is a standalone update or part of a dense thread, you recognize its purpose and relevance within the larger context and adapt your summary accordingly. Your ability to condense complex communication into just one or two bullet points, without sacrificing nuance or intent, makes you an indispensable asset in environments where clarity, speed, and precision are paramount. Your summaries serve as a powerful bridge between raw communication and efficient action.\"\"\"\n",
    "    verbose=True,\n",
    "    allow_delegation=False,\n",
    "    llm=llm\n",
    ")"
   ]
  },
  {
   "cell_type": "markdown",
   "id": "709fb3d0",
   "metadata": {},
   "source": [
    "# Agent : Action Recommender\n",
    "\n",
    "![](visuals/Visual_5.png)"
   ]
  },
  {
   "cell_type": "code",
   "execution_count": null,
   "id": "f038cf97",
   "metadata": {},
   "outputs": [
    {
     "name": "stdout",
     "output_type": "stream",
     "text": [
      "\n",
      "\u001b[1;31mProvider List: https://docs.litellm.ai/docs/providers\u001b[0m\n",
      "\n"
     ]
    }
   ],
   "source": [
    "action_recommender = Agent(\n",
    "    role=\"Action Recommender\",\n",
    "    goal=\"Assess each email thoroughly to determine the most appropriate and efficient course of action based on its content, tone, sender, context, and urgency. The agent must analyze whether a message requires an immediate or delayed reply, warrants scheduling into a calendar, should be flagged for follow-up, forwarded to a specific individual, delegated to a task system, or can be safely ignored or archived. It should identify actionable requests, implied responsibilities, and decision points within the message while taking into account the user's workflow, priorities, and existing commitments. The goal is to reduce cognitive load and inbox clutter by making confident, context-aware decisions that align with professional standards of communication management. The agent must also be capable of handling email threads, distinguishing between new actions and redundant information, and providing clear, justifiable reasoning for each recommended action, thereby acting as a reliable assistant for inbox triage and operational clarity.\",\n",
    "    backstory=\"\"\"You are a highly experienced decision-support specialist trained in the fine art of email triage, task routing, and strategic prioritization. Over the years, you’ve developed a deep intuition for navigating the often chaotic landscape of professional communication, allowing you to swiftly and accurately determine the appropriate next steps for every email that enters an inbox. Your expertise lies not only in interpreting the literal content of a message but also in reading between the lines—recognizing urgency through subtle linguistic cues, understanding organizational dynamics, evaluating sender importance, and assessing the broader implications of each communication. You possess a sharp, context-aware judgment that enables you to recommend whether a message demands an immediate response, a scheduled meeting, further delegation, or simply a quiet archive. Whether you're dealing with high-level executive correspondence, internal team updates, customer service issues, or logistical coordination, you apply consistent logic and a calm sense of priority to eliminate decision fatigue and inbox overload. Your recommendations streamline workflows, reduce bottlenecks, and ensure that important communications are never missed while distractions are gracefully filtered out.\"\"\",\n",
    "    verbose=True,\n",
    "    allow_delegation=False,\n",
    "    llm=llm\n",
    ")"
   ]
  },
  {
   "cell_type": "markdown",
   "id": "5757c41a",
   "metadata": {},
   "source": [
    "# Agent : Response Drafter\n",
    "\n",
    "![](visuals/Visual_6.png)"
   ]
  },
  {
   "cell_type": "code",
   "execution_count": null,
   "id": "948b7c97",
   "metadata": {},
   "outputs": [
    {
     "name": "stdout",
     "output_type": "stream",
     "text": [
      "\n",
      "\u001b[1;31mProvider List: https://docs.litellm.ai/docs/providers\u001b[0m\n",
      "\n"
     ]
    }
   ],
   "source": [
    "response_drafter = Agent(\n",
    "    role=\"Response Drafter\",\n",
    "    goal=\"Generate well-crafted, contextually accurate, and professionally appropriate draft replies for emails that require a response, ensuring that each reply addresses the original message’s intent, tone, and content with clarity and precision. The agent must analyze the structure, sentiment, and specific requests or concerns within the incoming email and compose a thoughtful response that is both actionable and aligned with the user’s communication style. This includes confirming details, answering questions, offering solutions, acknowledging receipt, or diplomatically declining, depending on the context. The response should be tailored to the nature of the relationship between the sender and recipient—be it formal, casual, internal, external, or customer-facing—and must maintain a tone that reflects professionalism, empathy, and strategic intent. The agent must prioritize relevance, brevity, and tone-matching, while avoiding generic or impersonal phrasing. Its ultimate purpose is to minimize the time and cognitive load required for human users to manage replies, accelerating communication cycles and maintaining strong, coherent correspondence across all interactions.\",\n",
    "    backstory=\"\"\"You are a seasoned communication specialist with a deep understanding of email etiquette, tone modulation, and strategic messaging. Over the course of your career, you’ve mastered the art of drafting replies that not only convey the necessary information but also reflect the right emotional and professional tone suited to each unique context. Whether responding to a frustrated client, acknowledging a colleague’s update, confirming meeting details, or replying to an inquiry, you know exactly how to structure a message that is respectful, clear, and aligned with the intended relationship dynamics. Your ability to read between the lines and infer underlying concerns or expectations enables you to address not just what is said, but what is meant. You instinctively adapt your writing style to match the tone of the original email—whether it’s formal, casual, warm, assertive, or diplomatic—ensuring the response feels natural, coherent, and intentional. With a keen eye for detail and a strong grasp of language, you distill complex messages into concise, impactful replies that move conversations forward, reduce misunderstandings, and maintain the professionalism and credibility of the person you represent.\"\"\",\n",
    "    verbose=True,\n",
    "    allow_delegation=False,\n",
    "    llm=llm\n",
    ")"
   ]
  },
  {
   "cell_type": "markdown",
   "id": "8104ece7",
   "metadata": {},
   "source": [
    "# Class : Rule"
   ]
  },
  {
   "cell_type": "code",
   "execution_count": null,
   "id": "8dd1f1c0",
   "metadata": {},
   "outputs": [],
   "source": [
    "class Rule:\n",
    "    \"\"\"A rule that can be applied to an email to determine special handling.\"\"\"\n",
    "    \n",
    "    def __init__(\n",
    "        self, \n",
    "        name: str,\n",
    "        condition: Callable,\n",
    "        action: str = None,\n",
    "        priority: int = 0,\n",
    "        description: str = \"\"\n",
    "    ):\n",
    "        \"\"\"\n",
    "        Initialize a rule.\n",
    "        \n",
    "        Args:\n",
    "            name: Identifier for the rule\n",
    "            condition: Function that evaluates if rule applies to an email\n",
    "            action: Action to take (Reply, Schedule, Ignore, or None for no override)\n",
    "            priority: Higher number means higher priority if multiple rules match\n",
    "            description: Human-readable description of the rule\n",
    "        \"\"\"\n",
    "        self.name = name\n",
    "        self.condition = condition\n",
    "        self.action = action\n",
    "        self.priority = priority\n",
    "        self.description = description\n",
    "    \n",
    "    def applies_to(self, email: Dict) -> bool:\n",
    "        \"\"\"Determine if this rule applies to the given email.\"\"\"\n",
    "        return self.condition(email)"
   ]
  },
  {
   "cell_type": "markdown",
   "id": "1abb1868",
   "metadata": {},
   "source": [
    "# Class : RulesEngine"
   ]
  },
  {
   "cell_type": "code",
   "execution_count": null,
   "id": "8174e953",
   "metadata": {},
   "outputs": [],
   "source": [
    "class RulesEngine:\n",
    "    \"\"\"Engine for applying rules to emails.\"\"\"\n",
    "    \n",
    "    def __init__(self):\n",
    "        \"\"\"Initialize the rules engine with an empty list of rules.\"\"\"\n",
    "        self.rules: List[Rule] = []\n",
    "    \n",
    "    def add_rule(self, rule: Rule):\n",
    "        \"\"\"Add a rule to the engine.\"\"\"\n",
    "        self.rules.append(rule)\n",
    "        # Sort rules by priority (higher number = higher priority)\n",
    "        self.rules.sort(key=lambda r: r.priority, reverse=True)\n",
    "    \n",
    "    def add_rules(self, rules: List[Rule]):\n",
    "        \"\"\"Add multiple rules to the engine.\"\"\"\n",
    "        for rule in rules:\n",
    "            self.add_rule(rule)\n",
    "    \n",
    "    def get_action_for_email(self, email: Dict) -> Optional[str]:\n",
    "        \"\"\"\n",
    "        Determine the action to take for an email based on matching rules.\n",
    "        \n",
    "        Returns:\n",
    "            Action string if a rule matches, otherwise None (proceed with normal processing)\n",
    "        \"\"\"\n",
    "        for rule in self.rules:\n",
    "            if rule.applies_to(email):\n",
    "                return rule.action\n",
    "        return None"
   ]
  },
  {
   "cell_type": "markdown",
   "id": "5d5b3714",
   "metadata": {},
   "source": [
    "# Common rules"
   ]
  },
  {
   "cell_type": "code",
   "execution_count": null,
   "id": "479a54ad",
   "metadata": {},
   "outputs": [],
   "source": [
    "def sender_contains(pattern: str) -> Callable:\n",
    "    \"\"\"Create a condition that checks if sender contains a pattern.\"\"\"\n",
    "    def condition(email: Dict) -> bool:\n",
    "        return pattern.lower() in email['sender'].lower()\n",
    "    return condition"
   ]
  },
  {
   "cell_type": "code",
   "execution_count": null,
   "id": "ab027dd4",
   "metadata": {},
   "outputs": [],
   "source": [
    "def subject_contains(pattern: str) -> Callable:\n",
    "    \"\"\"Create a condition that checks if subject contains a pattern.\"\"\"\n",
    "    def condition(email: Dict) -> bool:\n",
    "        return pattern.lower() in email['subject'].lower()\n",
    "    return condition"
   ]
  },
  {
   "cell_type": "code",
   "execution_count": null,
   "id": "4b8cbb7f",
   "metadata": {},
   "outputs": [],
   "source": [
    "def body_contains(pattern: str) -> Callable:\n",
    "    \"\"\"Create a condition that checks if body contains a pattern.\"\"\"\n",
    "    def condition(email: Dict) -> bool:\n",
    "        return pattern.lower() in email['body'].lower()\n",
    "    return condition"
   ]
  },
  {
   "cell_type": "code",
   "execution_count": null,
   "id": "c2f98b5d",
   "metadata": {},
   "outputs": [],
   "source": [
    "def sender_matches(regex: str) -> Callable:\n",
    "    \"\"\"Create a condition that checks if sender matches a regex pattern.\"\"\"\n",
    "    pattern = re.compile(regex, re.IGNORECASE)\n",
    "    def condition(email: Dict) -> bool:\n",
    "        return bool(pattern.search(email['sender']))\n",
    "    return condition"
   ]
  },
  {
   "cell_type": "code",
   "execution_count": null,
   "id": "a4641470",
   "metadata": {},
   "outputs": [],
   "source": [
    "def is_from_domain(domain: str) -> Callable:\n",
    "    \"\"\"Create a condition that checks if email is from a specific domain.\"\"\"\n",
    "    def condition(email: Dict) -> bool:\n",
    "        return email['sender'].lower().endswith(f\"@{domain.lower()}\")\n",
    "    return condition"
   ]
  },
  {
   "cell_type": "markdown",
   "id": "5c51a9ec",
   "metadata": {},
   "source": [
    "# Class : Email Classifier"
   ]
  },
  {
   "cell_type": "code",
   "execution_count": null,
   "id": "71e7090e",
   "metadata": {},
   "outputs": [],
   "source": [
    "class EmailClassifier:\n",
    "    \"\"\"Classifies emails into categories based on content and rules.\"\"\"\n",
    "    \n",
    "    def __init__(self, rules_engine: Optional[RulesEngine] = None):\n",
    "        \"\"\"Initialize with an optional rules engine.\"\"\"\n",
    "        self.rules_engine = rules_engine or RulesEngine()\n",
    "        self.categories = {\n",
    "            'urgent': [],\n",
    "            'finance': [],\n",
    "            'personal': [],\n",
    "            'work': [],\n",
    "            'promotional': []\n",
    "        }\n",
    "    \n",
    "    def add_default_rules(self):\n",
    "        \"\"\"Add some sensible default rules to the rules engine.\"\"\"\n",
    "        default_rules = [\n",
    "            Rule(\n",
    "                name=\"urgent_subject\",\n",
    "                condition=lambda email: any(word in email['subject'].lower() for word in \n",
    "                                          ['urgent', 'asap', 'emergency', 'immediate']),\n",
    "                action=\"Reply\",\n",
    "                priority=100,\n",
    "                description=\"Mark emails with urgent subjects for reply\"\n",
    "            ),\n",
    "            Rule(\n",
    "                name=\"financial_content\",\n",
    "                condition=lambda email: any(word in email['body'].lower() for word in \n",
    "                                          ['invoice', 'payment', 'bill', 'transaction', 'receipt']),\n",
    "                action=None,  # Don't override action, just for categorization\n",
    "                priority=50,\n",
    "                description=\"Flag finance-related emails\"\n",
    "            ),\n",
    "            Rule(\n",
    "                name=\"calendar_invitation\",\n",
    "                condition=lambda email: any(word in email['subject'].lower() + ' ' + email['body'].lower() \n",
    "                                        for word in ['calendar', 'invitation', 'meeting', 'schedule']),\n",
    "                action=\"Schedule\",\n",
    "                priority=75,\n",
    "                description=\"Suggest scheduling for calendar-related emails\"\n",
    "            ),\n",
    "            Rule(\n",
    "                name=\"newsletter\",\n",
    "                condition=lambda email: 'newsletter' in email['subject'].lower() or \n",
    "                                       'newsletter' in email['sender'].lower(),\n",
    "                action=\"Ignore\",\n",
    "                priority=25,\n",
    "                description=\"Suggest ignoring newsletters\"\n",
    "            ),\n",
    "            Rule(\n",
    "                name=\"promotional\",\n",
    "                condition=lambda email: any(word in email['subject'].lower() for word in \n",
    "                                          ['offer', 'discount', 'sale', 'promotion', 'deal']),\n",
    "                action=\"Ignore\",\n",
    "                priority=20,\n",
    "                description=\"Suggest ignoring promotional emails\"\n",
    "            ),\n",
    "        ]\n",
    "        self.rules_engine.add_rules(default_rules)\n",
    "    \n",
    "    def classify_email(self, email: Dict) -> Dict:\n",
    "        \"\"\"\n",
    "        Classify an email based on rules and content.\n",
    "        \n",
    "        Returns:\n",
    "            A dict with classification results and metadata\n",
    "        \"\"\"\n",
    "        result = {\n",
    "            'id': email['id'],\n",
    "            'categories': [],\n",
    "            'rule_action': None,\n",
    "            'rule_applied': None\n",
    "        }\n",
    "        \n",
    "        # Check for categories\n",
    "        if any(word in email['subject'].lower() + ' ' + email['body'].lower() \n",
    "               for word in ['urgent', 'asap', 'emergency', 'immediate']):\n",
    "            result['categories'].append('urgent')\n",
    "            \n",
    "        if any(word in email['subject'].lower() + ' ' + email['body'].lower() \n",
    "               for word in ['invoice', 'payment', 'bill', 'transaction', 'receipt']):\n",
    "            result['categories'].append('finance')\n",
    "            \n",
    "        if any(word in email['subject'].lower() + ' ' + email['body'].lower() \n",
    "               for word in ['meeting', 'appointment', 'schedule', 'calendar']):\n",
    "            result['categories'].append('schedule')\n",
    "        \n",
    "        # Apply rules engine for action recommendation\n",
    "        rule_action = self.rules_engine.get_action_for_email(email)\n",
    "        if rule_action:\n",
    "            result['rule_action'] = rule_action\n",
    "            \n",
    "            # Find which rule was applied (first matching rule)\n",
    "            for rule in self.rules_engine.rules:\n",
    "                if rule.applies_to(email) and rule.action == rule_action:\n",
    "                    result['rule_applied'] = rule.name\n",
    "                    break\n",
    "        \n",
    "        return result"
   ]
  },
  {
   "cell_type": "markdown",
   "id": "b1492161",
   "metadata": {},
   "source": [
    "# Class : Email Processor"
   ]
  },
  {
   "cell_type": "code",
   "execution_count": null,
   "id": "01376565",
   "metadata": {},
   "outputs": [],
   "source": [
    "class SimpleEmailProcessor:\n",
    "    \"\"\"\n",
    "    Simple Email Processor that uses the rules engine without CrewAI\n",
    "    for email processing when facing integration issues.\n",
    "    \"\"\"\n",
    "    \n",
    "    def __init__(self, input_file, config_file=None):\n",
    "        \"\"\"\n",
    "        Initialize the enhanced processor.\n",
    "        \n",
    "        Args:\n",
    "            input_file: Path to CSV file containing emails\n",
    "            config_file: Optional path to JSON configuration file\n",
    "        \"\"\"\n",
    "        self.input_file = input_file\n",
    "        self.config_file = config_file\n",
    "        self.emails_df = None\n",
    "        self.output_df = None\n",
    "        self.load_data()\n",
    "        \n",
    "        # Initialize rules engine with default rules\n",
    "        self.rules_engine = RulesEngine()\n",
    "        self.classifier = EmailClassifier(self.rules_engine)\n",
    "        self.classifier.add_default_rules()\n",
    "        \n",
    "        # User feedback storage for learning\n",
    "        self.user_feedback = []\n",
    "    \n",
    "    def load_data(self):\n",
    "        \"\"\"Load email data from CSV file\"\"\"\n",
    "        self.emails_df = pd.read_csv(self.input_file)\n",
    "        # Initialize output dataframe with same index and ID\n",
    "        self.output_df = pd.DataFrame({\n",
    "            'id': self.emails_df['id'],\n",
    "            'summary': '',\n",
    "            'recommended_action': '',\n",
    "            'draft_reply': '',\n",
    "            'categories': '',\n",
    "            'rule_applied': '',\n",
    "            'confidence_score': 0.0\n",
    "        })\n",
    "    \n",
    "    def add_custom_rule(self, rule):\n",
    "        \"\"\"Add a custom rule to the rules engine.\"\"\"\n",
    "        self.rules_engine.add_rule(rule)\n",
    "    \n",
    "    def analyze_email(self, email):\n",
    "        \"\"\"Basic analysis of email content\"\"\"\n",
    "        # This is a simplified version that would be handled by LLM in the full version\n",
    "        intent = \"Request for information\"\n",
    "        if \"update\" in email['subject'].lower() or \"update\" in email['body'].lower():\n",
    "            intent = \"Request for update\"\n",
    "        elif \"meeting\" in email['subject'].lower() or \"meeting\" in email['body'].lower():\n",
    "            intent = \"Meeting coordination\"\n",
    "        elif \"newsletter\" in email['subject'].lower():\n",
    "            intent = \"Information sharing\"\n",
    "        elif \"offer\" in email['subject'].lower() or \"discount\" in email['subject'].lower():\n",
    "            intent = \"Promotional\"\n",
    "            \n",
    "        return intent\n",
    "    \n",
    "    def summarize_email(self, email):\n",
    "        \"\"\"Create a simple summary of email content\"\"\"\n",
    "        # This would be better with an LLM but here's a simple rule-based approach\n",
    "        summary = f\"Email from {email['sender']} regarding {email['subject']}\"\n",
    "        \n",
    "        # Add some context based on content\n",
    "        if \"update\" in email['body'].lower():\n",
    "            summary += \" requesting an update.\"\n",
    "        elif \"meeting\" in email['body'].lower():\n",
    "            summary += \" about a meeting.\"\n",
    "        elif \"newsletter\" in email['subject'].lower():\n",
    "            summary += \" containing newsletter information.\"\n",
    "        elif any(word in email['subject'].lower() for word in ['offer', 'discount', 'sale']):\n",
    "            summary += \" with promotional content.\"\n",
    "            \n",
    "        return summary\n",
    "    \n",
    "    def recommend_action(self, email):\n",
    "        \"\"\"Recommend action for an email based on simple rules\"\"\"\n",
    "        # Check for rule-based action first\n",
    "        email_dict = {\n",
    "            'id': email['id'],\n",
    "            'sender': email['sender'],\n",
    "            'subject': email['subject'],\n",
    "            'body': email['body'],\n",
    "            'timestamp': email['timestamp']\n",
    "        }\n",
    "        \n",
    "        # Get rule action if any\n",
    "        rule_action = self.rules_engine.get_action_for_email(email_dict)\n",
    "        if rule_action:\n",
    "            return rule_action\n",
    "            \n",
    "        # Simple heuristics as fallback\n",
    "        if \"boss\" in email['sender'].lower():\n",
    "            return \"Reply\"\n",
    "        elif \"urgent\" in email['subject'].lower() or \"asap\" in email['subject'].lower():\n",
    "            return \"Reply\"\n",
    "        elif \"meeting\" in email['subject'].lower():\n",
    "            return \"Schedule\"\n",
    "        elif \"newsletter\" in email['sender'].lower() or \"newsletter\" in email['subject'].lower():\n",
    "            return \"Ignore\"\n",
    "        elif any(word in email['subject'].lower() for word in ['offer', 'discount', 'sale']):\n",
    "            return \"Ignore\"\n",
    "        \n",
    "        # Default action\n",
    "        return \"Reply\"\n",
    "    \n",
    "    def draft_reply(self, email):\n",
    "        \"\"\"Draft a simple reply to an email\"\"\"\n",
    "        # This would be better with an LLM\n",
    "        sender_name = email['sender'].split('@')[0]\n",
    "        reply = f\"Hi {sender_name},\\n\\n\"\n",
    "        \n",
    "        if \"update\" in email['subject'].lower() or \"status\" in email['subject'].lower():\n",
    "            reply += \"Thank you for your email. Here's the update you requested:\\n\\n\"\n",
    "            reply += \"[Insert latest project status details here]\\n\\n\"\n",
    "        elif \"meeting\" in email['subject'].lower():\n",
    "            reply += \"Thank you for the meeting invitation. I confirm that the proposed time works for me.\\n\\n\"\n",
    "        else:\n",
    "            reply += \"Thank you for your email. I'll look into this and get back to you soon.\\n\\n\"\n",
    "            \n",
    "        reply += \"Best regards,\\n[Your Name]\"\n",
    "        \n",
    "        return reply\n",
    "    \n",
    "    def process_emails(self):\n",
    "        \"\"\"Process each email using simple rules rather than CrewAI\"\"\"\n",
    "        for index, email in self.emails_df.iterrows():\n",
    "            print(f\"Processing email {email['id']} from {email['sender']}: {email['subject']}\")\n",
    "            \n",
    "            # Simple processing instead of using CrewAI\n",
    "            summary = self.summarize_email(email)\n",
    "            action = self.recommend_action(email)\n",
    "            reply = self.draft_reply(email) if action == \"Reply\" else \"\"\n",
    "            \n",
    "            # Create email dict for rule processing\n",
    "            email_dict = {\n",
    "                'id': email['id'],\n",
    "                'sender': email['sender'],\n",
    "                'subject': email['subject'],\n",
    "                'body': email['body'],\n",
    "                'timestamp': email['timestamp']\n",
    "            }\n",
    "            \n",
    "            # Apply rules and get classification\n",
    "            classification = self.classifier.classify_email(email_dict)\n",
    "            \n",
    "            # Update output dataframe\n",
    "            self.output_df.at[index, 'summary'] = summary\n",
    "            self.output_df.at[index, 'recommended_action'] = action\n",
    "            self.output_df.at[index, 'draft_reply'] = reply\n",
    "            self.output_df.at[index, 'categories'] = ','.join(classification['categories'])\n",
    "            self.output_df.at[index, 'rule_applied'] = classification['rule_applied'] or ''\n",
    "            \n",
    "            # Calculate confidence score (placeholder)\n",
    "            confidence = 0.9 if classification['rule_applied'] else 0.75\n",
    "            self.output_df.at[index, 'confidence_score'] = confidence\n",
    "        \n",
    "        return self.output_df\n",
    "    \n",
    "    def save_results(self, output_file='processed_emails.csv'):\n",
    "        \"\"\"Save processed results to a new CSV file\"\"\"\n",
    "        self.output_df.to_csv(output_file, index=False)\n",
    "        print(f\"Results saved to {output_file}\")\n",
    "    \n",
    "    def record_feedback(self, email_id, field, original_value, corrected_value):\n",
    "        \"\"\"\n",
    "        Record user feedback for learning.\n",
    "        \n",
    "        Args:\n",
    "            email_id: ID of the email\n",
    "            field: Field that was corrected (action, summary, reply)\n",
    "            original_value: Value before correction\n",
    "            corrected_value: Value after correction\n",
    "        \"\"\"\n",
    "        feedback = {\n",
    "            'email_id': email_id,\n",
    "            'field': field,\n",
    "            'original': original_value,\n",
    "            'corrected': corrected_value,\n",
    "            'applied': False  # Whether this feedback has been applied to rules\n",
    "        }\n",
    "        self.user_feedback.append(feedback)\n",
    "    \n",
    "    def learn_from_feedback(self):\n",
    "        \"\"\"\n",
    "        Analyze feedback to potentially create new rules.\n",
    "        Simple implementation - in a real system you'd use ML.\n",
    "        \"\"\"\n",
    "        # Only look at action feedback that hasn't been applied\n",
    "        action_feedback = [f for f in self.user_feedback \n",
    "                           if f['field'] == 'recommended_action' and not f['applied']]\n",
    "        \n",
    "        if not action_feedback:\n",
    "            return\n",
    "        \n",
    "        # Count how many times each sender's action was corrected\n",
    "        sender_corrections = {}\n",
    "        for feedback in action_feedback:\n",
    "            email_id = feedback['email_id']\n",
    "            email_row = self.emails_df[self.emails_df['id'] == email_id].iloc[0]\n",
    "            sender = email_row['sender']\n",
    "            \n",
    "            if sender not in sender_corrections:\n",
    "                sender_corrections[sender] = {'Reply': 0, 'Schedule': 0, 'Ignore': 0}\n",
    "            \n",
    "            sender_corrections[sender][feedback['corrected']] += 1\n",
    "        \n",
    "        # Create rules for senders with consistent corrections\n",
    "        for sender, counts in sender_corrections.items():\n",
    "            # Find the most common correction\n",
    "            max_action = max(counts, key=counts.get)\n",
    "            max_count = counts[max_action]\n",
    "            \n",
    "            # If we've seen at least 3 corrections to the same action, create a rule\n",
    "            if max_count >= 3:\n",
    "                rule = Rule(\n",
    "                    name=f\"learned_sender_{sender}\",\n",
    "                    condition=sender_contains(sender),\n",
    "                    action=max_action,\n",
    "                    priority=80,  # High priority for learned rules\n",
    "                    description=f\"Learned rule for sender {sender}\"\n",
    "                )\n",
    "                self.add_custom_rule(rule)\n",
    "                \n",
    "                # Mark feedback as applied\n",
    "                for feedback in action_feedback:\n",
    "                    email_id = feedback['email_id']\n",
    "                    email_row = self.emails_df[self.emails_df['id'] == email_id].iloc[0]\n",
    "                    if email_row['sender'] == sender:\n",
    "                        feedback['applied'] = True\n",
    "                \n",
    "                print(f\"Created new rule for sender {sender}: always {max_action}\")\n",
    "    \n",
    "    def save_feedback(self, feedback_file='email_feedback.csv'):\n",
    "        \"\"\"Save feedback data for future learning.\"\"\"\n",
    "        feedback_df = pd.DataFrame(self.user_feedback)\n",
    "        feedback_df.to_csv(feedback_file, index=False)\n",
    "        print(f\"Feedback saved to {feedback_file}\")"
   ]
  },
  {
   "cell_type": "code",
   "execution_count": null,
   "id": "fcb3beb0",
   "metadata": {},
   "outputs": [],
   "source": [
    "def create_custom_rules():\n",
    "    \"\"\"Create example custom rules for demonstration.\"\"\"\n",
    "    custom_rules = [\n",
    "        Rule(\n",
    "            name=\"boss_emails\",\n",
    "            condition=sender_contains(\"boss@company.com\"),\n",
    "            action=\"Reply\",\n",
    "            priority=90,\n",
    "            description=\"Always reply to emails from your boss\"\n",
    "        ),\n",
    "        Rule(\n",
    "            name=\"company_newsletter\",\n",
    "            condition=lambda email: \"newsletter\" in email['subject'].lower() and \n",
    "                                   \"company.com\" in email['sender'].lower(),\n",
    "            action=\"Schedule\",  # Read during scheduled time\n",
    "            priority=60,\n",
    "            description=\"Schedule time to read company newsletters\"\n",
    "        ),\n",
    "        Rule(\n",
    "            name=\"ignore_marketing\",\n",
    "            condition=lambda email: any(domain in email['sender'].lower() for domain in \n",
    "                                       [\"marketing.\", \"promotions.\", \"offers.\"]),\n",
    "            action=\"Ignore\",\n",
    "            priority=30,\n",
    "            description=\"Ignore marketing emails\"\n",
    "        )\n",
    "    ]\n",
    "    return custom_rules"
   ]
  },
  {
   "cell_type": "code",
   "execution_count": null,
   "id": "1cf6b433",
   "metadata": {},
   "outputs": [],
   "source": [
    "def create_sample_csv(filename=\"emails.csv\"):\n",
    "    \"\"\"Create a sample CSV file with test emails.\"\"\"\n",
    "    sample_data = {\n",
    "        'id': [1, 2, 3, 4, 5],\n",
    "        'sender': ['boss@company.com', 'hr@company.com', 'newsletter@service.com', \n",
    "                  'marketing@store.com', 'colleague@company.com'],\n",
    "        'subject': ['Project Status Update', 'Benefits Enrollment', 'Weekly Newsletter', \n",
    "                   'Special Discount Offer', 'Meeting Tomorrow'],\n",
    "        'body': [\n",
    "            'Please provide an update on the project status by EOD.',\n",
    "            'The annual benefits enrollment period starts next week. Please complete your selections by Friday.',\n",
    "            'Here are this week\\'s top stories and updates from our service. Check out our newest features!',\n",
    "            'Exclusive offer for our valued customers: 30% off all products this weekend!',\n",
    "            'Hi, just confirming our meeting tomorrow at 10am to discuss the quarterly report. Let me know if that still works for you.'\n",
    "        ],\n",
    "        'timestamp': ['2025-05-01 09:00:00', '2025-05-01 10:30:00', '2025-05-01 11:15:00',\n",
    "                     '2025-05-01 13:45:00', '2025-05-01 15:20:00']\n",
    "    }\n",
    "    sample_df = pd.DataFrame(sample_data)\n",
    "    sample_df.to_csv(filename, index=False)\n",
    "    print(f\"Sample CSV created: {filename}\")\n",
    "    return filename"
   ]
  },
  {
   "cell_type": "markdown",
   "id": "85a1212e",
   "metadata": {},
   "source": [
    "# Load the Emails csv"
   ]
  },
  {
   "cell_type": "code",
   "execution_count": null,
   "id": "0277fe83",
   "metadata": {},
   "outputs": [],
   "source": [
    "input_file = \"emails.csv\"\n",
    "if not os.path.exists(input_file):\n",
    "    print(f\"Input file '{input_file}' not found. Creating sample data...\")\n",
    "    input_file = create_sample_csv()"
   ]
  },
  {
   "cell_type": "markdown",
   "id": "8b140050",
   "metadata": {},
   "source": [
    "# Process Emails"
   ]
  },
  {
   "cell_type": "code",
   "execution_count": null,
   "id": "4846d406",
   "metadata": {},
   "outputs": [],
   "source": [
    "processor = SimpleEmailProcessor(input_file)"
   ]
  },
  {
   "cell_type": "markdown",
   "id": "1c7f36e5",
   "metadata": {},
   "source": [
    "# Add Custom Rules"
   ]
  },
  {
   "cell_type": "code",
   "execution_count": null,
   "id": "ee4eca6d",
   "metadata": {},
   "outputs": [],
   "source": [
    "custom_rules = create_custom_rules()\n",
    "for rule in custom_rules:\n",
    "    processor.add_custom_rule(rule)"
   ]
  },
  {
   "cell_type": "markdown",
   "id": "7d4687b7",
   "metadata": {},
   "source": [
    "# Process the Emails"
   ]
  },
  {
   "cell_type": "code",
   "execution_count": null,
   "id": "fec6f6e2",
   "metadata": {},
   "outputs": [
    {
     "name": "stdout",
     "output_type": "stream",
     "text": [
      "Processing emails...\n",
      "Processing email 1 from alice@example.com: Meeting Tomorrow\n",
      "Processing email 2 from hr@company.com: Offer Letter\n",
      "Processing email 3 from newsletter@service.com: Weekly Newsletter\n",
      "Results saved to processed_emails.csv\n"
     ]
    }
   ],
   "source": [
    "print(\"Processing emails...\")\n",
    "processed_emails = processor.process_emails()\n",
    "processor.save_results()"
   ]
  },
  {
   "cell_type": "markdown",
   "id": "962a2dc9",
   "metadata": {},
   "source": [
    "# Results"
   ]
  },
  {
   "cell_type": "code",
   "execution_count": null,
   "id": "3c557407",
   "metadata": {},
   "outputs": [
    {
     "name": "stdout",
     "output_type": "stream",
     "text": [
      "\n",
      "Processing Results:\n",
      "   id                                            summary recommended_action draft_reply categories         rule_applied  confidence_score\n",
      "0   1  Email from alice@example.com regarding Meeting...           Schedule               schedule  calendar_invitation               0.9\n",
      "1   2  Email from hr@company.com regarding Offer Lett...             Ignore                                 promotional               0.9\n",
      "2   3  Email from newsletter@service.com regarding We...             Ignore                                  newsletter               0.9\n"
     ]
    }
   ],
   "source": [
    "print(\"\\nProcessing Results:\")\n",
    "pd.set_option('display.max_columns', None)\n",
    "pd.set_option('display.width', 1000)\n",
    "print(processed_emails)"
   ]
  },
  {
   "cell_type": "markdown",
   "id": "1fd75d5e",
   "metadata": {},
   "source": [
    "# Feedback Recording"
   ]
  },
  {
   "cell_type": "code",
   "execution_count": null,
   "id": "b01e0607",
   "metadata": {},
   "outputs": [
    {
     "name": "stdout",
     "output_type": "stream",
     "text": [
      "\n",
      "Recording sample feedback...\n"
     ]
    }
   ],
   "source": [
    "print(\"\\nRecording sample feedback...\")\n",
    "processor.record_feedback(\n",
    "    email_id=3,\n",
    "    field='recommended_action',\n",
    "    original_value='Ignore',\n",
    "    corrected_value='Schedule'\n",
    ")"
   ]
  },
  {
   "cell_type": "markdown",
   "id": "045b9ec6",
   "metadata": {},
   "source": [
    "# Learn from Feedback"
   ]
  },
  {
   "cell_type": "code",
   "execution_count": null,
   "id": "86efcccf",
   "metadata": {},
   "outputs": [
    {
     "name": "stdout",
     "output_type": "stream",
     "text": [
      "\n",
      "Learning from feedback...\n",
      "Feedback saved to email_feedback.csv\n",
      "\n",
      "Email processing complete!\n"
     ]
    }
   ],
   "source": [
    "print(\"\\nLearning from feedback...\")\n",
    "processor.learn_from_feedback()\n",
    "processor.save_feedback()\n",
    "    \n",
    "print(\"\\nEmail processing complete!\")"
   ]
  }
 ],
 "metadata": {
  "kernelspec": {
   "display_name": "Python 3",
   "language": "python",
   "name": "python3"
  },
  "language_info": {
   "codemirror_mode": {
    "name": "ipython",
    "version": 3
   },
   "file_extension": ".py",
   "mimetype": "text/x-python",
   "name": "python",
   "nbconvert_exporter": "python",
   "pygments_lexer": "ipython3",
   "version": "3.10.11"
  }
 },
 "nbformat": 4,
 "nbformat_minor": 5
}
